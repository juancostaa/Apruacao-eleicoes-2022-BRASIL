{
 "cells": [
  {
   "cell_type": "code",
   "execution_count": 14,
   "metadata": {},
   "outputs": [],
   "source": [
    "import pandas as pd\n",
    "import numpy as np\n",
    "import requests\n",
    "import pprint\n",
    "from matplotlib import pyplot as plt\n",
    "import seaborn as sns"
   ]
  },
  {
   "cell_type": "code",
   "execution_count": 15,
   "metadata": {},
   "outputs": [],
   "source": [
    "#Endpoint TSE com resultados atualizados - 10s:\n",
    "url='https://resultados.tse.jus.br/oficial/ele2022/544/dados-simplificados/br/br-c0001-e000544-r.json'\n",
    "\n",
    "#Fazendo a requisição na URL:\n",
    "re=requests.get(url).json()\n",
    "candidatos = re['cand'][0:10]"
   ]
  },
  {
   "cell_type": "code",
   "execution_count": 16,
   "metadata": {},
   "outputs": [],
   "source": [
    "df=pd.DataFrame(candidatos)\n",
    "df=df[['nm','n','dvt','vap','pvap']]\n",
    "df.rename(columns={'nm':'Nome do Candidato',\n",
    "                'n':'Numero do Candidato',\n",
    "                'dvt':'Validade',\n",
    "                'vap':'Votos',\n",
    "                'pvap':'(%) Votos'}, inplace=True)\n",
    "\n",
    "df['Horario Atualização']=re['hg']\n",
    "df['(%) Votos']=df['(%) Votos'].str.replace(',','.')\n",
    "df['(%) Votos']=df['(%) Votos'].astype(float)\n",
    "df['Votos']=df['Votos'].astype(int)\n",
    "df['Nome do Candidato']=df['Nome do Candidato'].str.replace('D&apos;',\"D'\")\n",
    "df=df.sort_values(by='Votos', ascending=False)"
   ]
  },
  {
   "cell_type": "code",
   "execution_count": 19,
   "metadata": {},
   "outputs": [
    {
     "data": {
      "image/png": "[encoded data removed]",
      "text/plain": [
       "<Figure size 936x432 with 1 Axes>"
      ]
     },
     "metadata": {
      "needs_background": "light"
     },
     "output_type": "display_data"
    }
   ],
   "source": [
    "fig, axs = plt.subplots(ncols=1, figsize=(13,6))\n",
    "\n",
    "ax1 = sns.barplot(\n",
    "    x=\"Nome do Candidato\",\n",
    "    y='(%) Votos',\n",
    "    data=df[:5],\n",
    "    palette=\"ch:.25\",\n",
    "    ax=axs)\n",
    "\n",
    "ax1.set(xlabel=\"Candidatos(as)\",\n",
    "        ylabel=\"(%) Votos\",\n",
    "        title=\"Apuração de resultados Eleições 2022 - Presidente - (5 mais Votados)\",\n",
    "        ylim=(0,70))\n",
    "\n",
    "\n",
    "# Adicionando rotulo com valores no gráfico ax1:\n",
    "for p in ax1.patches:\n",
    "            ax1.annotate(\"%.2f\" % p.get_height(), (p.get_x() + p.get_width() / 2., p.get_height()),\n",
    "                ha='center', va='center', fontsize=13, color='black', xytext=(2, 5),\n",
    "                textcoords='offset points')\n",
    "\n",
    "plt.show()\n"
   ]
  },
  {
   "cell_type": "code",
   "execution_count": 21,
   "metadata": {},
   "outputs": [
    {
     "data": {
      "text/html": [
       "<div>\n",
       "<style scoped>\n",
       "    .dataframe tbody tr th:only-of-type {\n",
       "        vertical-align: middle;\n",
       "    }\n",
       "\n",
       "    .dataframe tbody tr th {\n",
       "        vertical-align: top;\n",
       "    }\n",
       "\n",
       "    .dataframe thead th {\n",
       "        text-align: right;\n",
       "    }\n",
       "</style>\n",
       "<table border=\"1\" class=\"dataframe\">\n",
       "  <thead>\n",
       "    <tr style=\"text-align: right;\">\n",
       "      <th></th>\n",
       "      <th>Nome do Candidato</th>\n",
       "      <th>Numero do Candidato</th>\n",
       "      <th>Validade</th>\n",
       "      <th>Votos</th>\n",
       "      <th>(%) Votos</th>\n",
       "      <th>Horario Atualização</th>\n",
       "    </tr>\n",
       "  </thead>\n",
       "  <tbody>\n",
       "    <tr>\n",
       "      <th>0</th>\n",
       "      <td>JAIR BOLSONARO</td>\n",
       "      <td>22</td>\n",
       "      <td>Válido</td>\n",
       "      <td>314639</td>\n",
       "      <td>48.06</td>\n",
       "      <td>17:26:28</td>\n",
       "    </tr>\n",
       "    <tr>\n",
       "      <th>1</th>\n",
       "      <td>LULA</td>\n",
       "      <td>13</td>\n",
       "      <td>Válido</td>\n",
       "      <td>268559</td>\n",
       "      <td>41.02</td>\n",
       "      <td>17:26:28</td>\n",
       "    </tr>\n",
       "    <tr>\n",
       "      <th>2</th>\n",
       "      <td>SIMONE TEBET</td>\n",
       "      <td>15</td>\n",
       "      <td>Válido</td>\n",
       "      <td>35148</td>\n",
       "      <td>5.37</td>\n",
       "      <td>17:26:28</td>\n",
       "    </tr>\n",
       "    <tr>\n",
       "      <th>3</th>\n",
       "      <td>CIRO GOMES</td>\n",
       "      <td>12</td>\n",
       "      <td>Válido</td>\n",
       "      <td>25639</td>\n",
       "      <td>3.92</td>\n",
       "      <td>17:26:28</td>\n",
       "    </tr>\n",
       "    <tr>\n",
       "      <th>4</th>\n",
       "      <td>FELIPE D'AVILA</td>\n",
       "      <td>30</td>\n",
       "      <td>Válido</td>\n",
       "      <td>4862</td>\n",
       "      <td>0.74</td>\n",
       "      <td>17:26:28</td>\n",
       "    </tr>\n",
       "    <tr>\n",
       "      <th>5</th>\n",
       "      <td>SORAYA THRONICKE</td>\n",
       "      <td>44</td>\n",
       "      <td>Válido</td>\n",
       "      <td>3391</td>\n",
       "      <td>0.52</td>\n",
       "      <td>17:26:28</td>\n",
       "    </tr>\n",
       "    <tr>\n",
       "      <th>6</th>\n",
       "      <td>PADRE KELMON</td>\n",
       "      <td>14</td>\n",
       "      <td>Válido</td>\n",
       "      <td>663</td>\n",
       "      <td>0.10</td>\n",
       "      <td>17:26:28</td>\n",
       "    </tr>\n",
       "    <tr>\n",
       "      <th>7</th>\n",
       "      <td>SOFIA MANZANO</td>\n",
       "      <td>21</td>\n",
       "      <td>Válido</td>\n",
       "      <td>607</td>\n",
       "      <td>0.09</td>\n",
       "      <td>17:26:28</td>\n",
       "    </tr>\n",
       "    <tr>\n",
       "      <th>8</th>\n",
       "      <td>LÉO PÉRICLES</td>\n",
       "      <td>80</td>\n",
       "      <td>Válido</td>\n",
       "      <td>452</td>\n",
       "      <td>0.07</td>\n",
       "      <td>17:26:28</td>\n",
       "    </tr>\n",
       "    <tr>\n",
       "      <th>9</th>\n",
       "      <td>VERA</td>\n",
       "      <td>16</td>\n",
       "      <td>Válido</td>\n",
       "      <td>436</td>\n",
       "      <td>0.07</td>\n",
       "      <td>17:26:28</td>\n",
       "    </tr>\n",
       "  </tbody>\n",
       "</table>\n",
       "</div>"
      ],
      "text/plain": [
       "  Nome do Candidato Numero do Candidato Validade   Votos  (%) Votos  \\\n",
       "0    JAIR BOLSONARO                  22   Válido  314639      48.06   \n",
       "1              LULA                  13   Válido  268559      41.02   \n",
       "2      SIMONE TEBET                  15   Válido   35148       5.37   \n",
       "3        CIRO GOMES                  12   Válido   25639       3.92   \n",
       "4    FELIPE D'AVILA                  30   Válido    4862       0.74   \n",
       "5  SORAYA THRONICKE                  44   Válido    3391       0.52   \n",
       "6      PADRE KELMON                  14   Válido     663       0.10   \n",
       "7     SOFIA MANZANO                  21   Válido     607       0.09   \n",
       "8      LÉO PÉRICLES                  80   Válido     452       0.07   \n",
       "9              VERA                  16   Válido     436       0.07   \n",
       "\n",
       "  Horario Atualização  \n",
       "0            17:26:28  \n",
       "1            17:26:28  \n",
       "2            17:26:28  \n",
       "3            17:26:28  \n",
       "4            17:26:28  \n",
       "5            17:26:28  \n",
       "6            17:26:28  \n",
       "7            17:26:28  \n",
       "8            17:26:28  \n",
       "9            17:26:28  "
      ]
     },
     "execution_count": 21,
     "metadata": {},
     "output_type": "execute_result"
    }
   ],
   "source": [
    "df"
   ]
  },
  {
   "cell_type": "code",
   "execution_count": null,
   "metadata": {},
   "outputs": [],
   "source": []
  }
 ],
 "metadata": {
  "kernelspec": {
   "display_name": "Python 3.8.3",
   "language": "python",
   "name": "python3"
  },
  "language_info": {
   "codemirror_mode": {
    "name": "ipython",
    "version": 3
   },
   "file_extension": ".py",
   "mimetype": "text/x-python",
   "name": "python",
   "nbconvert_exporter": "python",
   "pygments_lexer": "ipython3",
   "version": "3.8.3"
  },
  "orig_nbformat": 4,
  "vscode": {
   "interpreter": {
    "hash": "ff4f85d6e04298634172ac5d8264e7e9b556b95639fe52ebb9425c4d4cba0c9c"
   }
  }
 },
 "nbformat": 4,
 "nbformat_minor": 2
}
