{
 "cells": [
  {
   "cell_type": "code",
   "execution_count": 91,
   "metadata": {},
   "outputs": [],
   "source": [
    "import pandas as pd\n",
    "import numpy as np\n",
    "import requests\n",
    "import pprint\n",
    "from matplotlib import pyplot as plt\n",
    "import seaborn as sns"
   ]
  },
  {
   "cell_type": "code",
   "execution_count": 92,
   "metadata": {},
   "outputs": [],
   "source": [
    "#Endpoint TSE com resultados atualizados - 10s:\n",
    "url='https://resultados.tse.jus.br/oficial/ele2022/544/dados-simplificados/br/br-c0001-e000544-r.json'\n",
    "\n",
    "#Fazendo a requisição na URL:\n",
    "re=requests.get(url).json()\n",
    "candidatos = re['cand'][:10]"
   ]
  },
  {
   "cell_type": "code",
   "execution_count": 93,
   "metadata": {},
   "outputs": [],
   "source": [
    "df=pd.DataFrame(candidatos)\n",
    "df=df[['nm','n','dvt','vap','pvap']]\n",
    "df.rename(columns={'nm':'Nome do Candidato',\n",
    "                'n':'Numero do Candidato',\n",
    "                'dvt':'Validade',\n",
    "                'vap':'Votos',\n",
    "                'pvap':'(%) Votos'}, inplace=True)\n",
    "\n",
    "df['Horario Atualização']=re['hg']\n",
    "df['(%) Votos']=df['(%) Votos'].str.replace(',','.')\n",
    "df['(%) Votos']=df['(%) Votos'].astype(float)\n",
    "df['Votos']=df['Votos'].astype(int)\n",
    "df['Nome do Candidato']=df['Nome do Candidato'].str.replace('D&apos;',\"D'\")\n",
    "df=df.sort_values(by='Votos', ascending=False)"
   ]
  },
  {
   "cell_type": "code",
   "execution_count": 94,
   "metadata": {},
   "outputs": [
    {
     "data": {
      "image/png": "[encoded data removed]",
      "text/plain": [
       "<Figure size 936x576 with 1 Axes>"
      ]
     },
     "metadata": {
      "needs_background": "light"
     },
     "output_type": "display_data"
    }
   ],
   "source": [
    "fig, axs = plt.subplots(ncols=1, figsize=(13,8))\n",
    "\n",
    "ax1 = sns.barplot(\n",
    "    x=\"Nome do Candidato\",\n",
    "    y='(%) Votos',\n",
    "    data=df[:5],\n",
    "    palette=\"ch:.25\",\n",
    "    ax=axs)\n",
    "\n",
    "ax1.set(xlabel=\"Candidatos(as)\",\n",
    "        ylabel=\"(%) Votos\",\n",
    "        title=\"Apuração de resultados Eleições 2022 - Presidente - (5 mais Votados)\",\n",
    "        ylim=(0,70))\n",
    "\n",
    "\n",
    "# Adicionando rotulo com valores no gráfico ax1:\n",
    "for p in ax1.patches:\n",
    "            ax1.annotate(\"%.2f\" % p.get_height(), (p.get_x() + p.get_width() / 2., p.get_height()),\n",
    "                ha='center', va='center', fontsize=13, color='black', xytext=(2, 5),\n",
    "                textcoords='offset points')\n",
    "\n",
    "plt.show()\n"
   ]
  },
  {
   "cell_type": "code",
   "execution_count": 95,
   "metadata": {},
   "outputs": [
    {
     "data": {
      "text/html": [
       "<div>\n",
       "<style scoped>\n",
       "    .dataframe tbody tr th:only-of-type {\n",
       "        vertical-align: middle;\n",
       "    }\n",
       "\n",
       "    .dataframe tbody tr th {\n",
       "        vertical-align: top;\n",
       "    }\n",
       "\n",
       "    .dataframe thead th {\n",
       "        text-align: right;\n",
       "    }\n",
       "</style>\n",
       "<table border=\"1\" class=\"dataframe\">\n",
       "  <thead>\n",
       "    <tr style=\"text-align: right;\">\n",
       "      <th></th>\n",
       "      <th>Nome do Candidato</th>\n",
       "      <th>Numero do Candidato</th>\n",
       "      <th>Validade</th>\n",
       "      <th>Votos</th>\n",
       "      <th>(%) Votos</th>\n",
       "      <th>Horario Atualização</th>\n",
       "    </tr>\n",
       "  </thead>\n",
       "  <tbody>\n",
       "    <tr>\n",
       "      <th>0</th>\n",
       "      <td>LULA</td>\n",
       "      <td>13</td>\n",
       "      <td>Válido</td>\n",
       "      <td>54995039</td>\n",
       "      <td>47.88</td>\n",
       "      <td>21:27:27</td>\n",
       "    </tr>\n",
       "    <tr>\n",
       "      <th>1</th>\n",
       "      <td>JAIR BOLSONARO</td>\n",
       "      <td>22</td>\n",
       "      <td>Válido</td>\n",
       "      <td>50167598</td>\n",
       "      <td>43.68</td>\n",
       "      <td>21:27:27</td>\n",
       "    </tr>\n",
       "    <tr>\n",
       "      <th>2</th>\n",
       "      <td>SIMONE TEBET</td>\n",
       "      <td>15</td>\n",
       "      <td>Válido</td>\n",
       "      <td>4839583</td>\n",
       "      <td>4.21</td>\n",
       "      <td>21:27:27</td>\n",
       "    </tr>\n",
       "    <tr>\n",
       "      <th>3</th>\n",
       "      <td>CIRO GOMES</td>\n",
       "      <td>12</td>\n",
       "      <td>Válido</td>\n",
       "      <td>3508366</td>\n",
       "      <td>3.05</td>\n",
       "      <td>21:27:27</td>\n",
       "    </tr>\n",
       "    <tr>\n",
       "      <th>4</th>\n",
       "      <td>SORAYA THRONICKE</td>\n",
       "      <td>44</td>\n",
       "      <td>Válido</td>\n",
       "      <td>584042</td>\n",
       "      <td>0.51</td>\n",
       "      <td>21:27:27</td>\n",
       "    </tr>\n",
       "    <tr>\n",
       "      <th>5</th>\n",
       "      <td>FELIPE D'AVILA</td>\n",
       "      <td>30</td>\n",
       "      <td>Válido</td>\n",
       "      <td>552996</td>\n",
       "      <td>0.48</td>\n",
       "      <td>21:27:27</td>\n",
       "    </tr>\n",
       "    <tr>\n",
       "      <th>6</th>\n",
       "      <td>PADRE KELMON</td>\n",
       "      <td>14</td>\n",
       "      <td>Válido</td>\n",
       "      <td>78363</td>\n",
       "      <td>0.07</td>\n",
       "      <td>21:27:27</td>\n",
       "    </tr>\n",
       "    <tr>\n",
       "      <th>7</th>\n",
       "      <td>LÉO PÉRICLES</td>\n",
       "      <td>80</td>\n",
       "      <td>Válido</td>\n",
       "      <td>52800</td>\n",
       "      <td>0.05</td>\n",
       "      <td>21:27:27</td>\n",
       "    </tr>\n",
       "    <tr>\n",
       "      <th>8</th>\n",
       "      <td>SOFIA MANZANO</td>\n",
       "      <td>21</td>\n",
       "      <td>Válido</td>\n",
       "      <td>44732</td>\n",
       "      <td>0.04</td>\n",
       "      <td>21:27:27</td>\n",
       "    </tr>\n",
       "    <tr>\n",
       "      <th>9</th>\n",
       "      <td>VERA</td>\n",
       "      <td>16</td>\n",
       "      <td>Válido</td>\n",
       "      <td>25092</td>\n",
       "      <td>0.02</td>\n",
       "      <td>21:27:27</td>\n",
       "    </tr>\n",
       "  </tbody>\n",
       "</table>\n",
       "</div>"
      ],
      "text/plain": [
       "  Nome do Candidato Numero do Candidato Validade     Votos  (%) Votos  \\\n",
       "0              LULA                  13   Válido  54995039      47.88   \n",
       "1    JAIR BOLSONARO                  22   Válido  50167598      43.68   \n",
       "2      SIMONE TEBET                  15   Válido   4839583       4.21   \n",
       "3        CIRO GOMES                  12   Válido   3508366       3.05   \n",
       "4  SORAYA THRONICKE                  44   Válido    584042       0.51   \n",
       "5    FELIPE D'AVILA                  30   Válido    552996       0.48   \n",
       "6      PADRE KELMON                  14   Válido     78363       0.07   \n",
       "7      LÉO PÉRICLES                  80   Válido     52800       0.05   \n",
       "8     SOFIA MANZANO                  21   Válido     44732       0.04   \n",
       "9              VERA                  16   Válido     25092       0.02   \n",
       "\n",
       "  Horario Atualização  \n",
       "0            21:27:27  \n",
       "1            21:27:27  \n",
       "2            21:27:27  \n",
       "3            21:27:27  \n",
       "4            21:27:27  \n",
       "5            21:27:27  \n",
       "6            21:27:27  \n",
       "7            21:27:27  \n",
       "8            21:27:27  \n",
       "9            21:27:27  "
      ]
     },
     "execution_count": 95,
     "metadata": {},
     "output_type": "execute_result"
    }
   ],
   "source": [
    "df"
   ]
  },
  {
   "cell_type": "code",
   "execution_count": 96,
   "metadata": {},
   "outputs": [
    {
     "name": "stdout",
     "output_type": "stream",
     "text": [
      "Seções Totais: 472075\n",
      "Seções Apuradas: 458290\n",
      "Percentual de Seções apuradas: 97.0799%\n",
      "Diferença entre Lula e Bolso**ro: 4.2 P.P. (LULA)\n"
     ]
    }
   ],
   "source": [
    "print (f'Seções Totais: {re[\"s\"]}')\n",
    "print (f'Seções Apuradas: {re[\"st\"]}')\n",
    "pct=int(re['st'])/int(re['s'])*100\n",
    "diff=round((df['(%) Votos'].iloc[0]-df['(%) Votos'].iloc[1]),4)\n",
    "print (f'Percentual de Seções apuradas: {round(pct,4)}%')\n",
    "print(f'Diferença entre Lula e Bolso**ro: {diff} P.P. ({df[\"Nome do Candidato\"].iloc[0]})')\n"
   ]
  },
  {
   "cell_type": "code",
   "execution_count": 97,
   "metadata": {},
   "outputs": [],
   "source": [
    "#Coletando sessões apuradas por estados:\n",
    "url2='https://resultados.tse.jus.br/oficial/ele2022/544/dados/br/br-e000544-ab.json'\n",
    "re_uf=requests.get(url2).json()\n",
    "ufs = re_uf['abr'][:28]"
   ]
  },
  {
   "cell_type": "code",
   "execution_count": 98,
   "metadata": {},
   "outputs": [],
   "source": [
    "df_uf2=pd.DataFrame(ufs)\n",
    "df_uf2=df_uf2[['cdabr','pst','ht']]\n",
    "df_uf2.rename(columns={'cdabr':'UF (Unidade Federativa)',\n",
    "                'pst':'(%) Sessões Apuradas',\n",
    "                'ht':'Horário'}, inplace=True)\n",
    "df_uf2['(%) Sessões Apuradas']=df_uf2['(%) Sessões Apuradas'].str.replace(',','.')\n",
    "df_uf2['(%) Sessões Apuradas']=df_uf2['(%) Sessões Apuradas'].astype(float)\n",
    "df_uf2=df_uf2.sort_values(by='UF (Unidade Federativa)', ascending=True)\n",
    "#df_uf2['UF (Unidade Federativa)']=df_uf2['UF (Unidade Federativa)'].str.replace('ZZ','Sessões no Exterior')"
   ]
  },
  {
   "cell_type": "code",
   "execution_count": 99,
   "metadata": {},
   "outputs": [
    {
     "data": {
      "text/html": [
       "<div>\n",
       "<style scoped>\n",
       "    .dataframe tbody tr th:only-of-type {\n",
       "        vertical-align: middle;\n",
       "    }\n",
       "\n",
       "    .dataframe tbody tr th {\n",
       "        vertical-align: top;\n",
       "    }\n",
       "\n",
       "    .dataframe thead th {\n",
       "        text-align: right;\n",
       "    }\n",
       "</style>\n",
       "<table border=\"1\" class=\"dataframe\">\n",
       "  <thead>\n",
       "    <tr style=\"text-align: right;\">\n",
       "      <th></th>\n",
       "      <th>UF (Unidade Federativa)</th>\n",
       "      <th>(%) Sessões Apuradas</th>\n",
       "      <th>Horário</th>\n",
       "    </tr>\n",
       "  </thead>\n",
       "  <tbody>\n",
       "    <tr>\n",
       "      <th>16</th>\n",
       "      <td>AC</td>\n",
       "      <td>98.54</td>\n",
       "      <td>21:24:43</td>\n",
       "    </tr>\n",
       "    <tr>\n",
       "      <th>20</th>\n",
       "      <td>AL</td>\n",
       "      <td>87.97</td>\n",
       "      <td>21:27:06</td>\n",
       "    </tr>\n",
       "    <tr>\n",
       "      <th>0</th>\n",
       "      <td>AM</td>\n",
       "      <td>97.16</td>\n",
       "      <td>21:26:59</td>\n",
       "    </tr>\n",
       "    <tr>\n",
       "      <th>23</th>\n",
       "      <td>AP</td>\n",
       "      <td>99.60</td>\n",
       "      <td>21:21:22</td>\n",
       "    </tr>\n",
       "    <tr>\n",
       "      <th>21</th>\n",
       "      <td>BA</td>\n",
       "      <td>92.57</td>\n",
       "      <td>21:27:00</td>\n",
       "    </tr>\n",
       "  </tbody>\n",
       "</table>\n",
       "</div>"
      ],
      "text/plain": [
       "   UF (Unidade Federativa)  (%) Sessões Apuradas   Horário\n",
       "16                      AC                 98.54  21:24:43\n",
       "20                      AL                 87.97  21:27:06\n",
       "0                       AM                 97.16  21:26:59\n",
       "23                      AP                 99.60  21:21:22\n",
       "21                      BA                 92.57  21:27:00"
      ]
     },
     "execution_count": 99,
     "metadata": {},
     "output_type": "execute_result"
    }
   ],
   "source": [
    "df_uf2.head()"
   ]
  },
  {
   "cell_type": "code",
   "execution_count": 100,
   "metadata": {},
   "outputs": [
    {
     "data": {
      "image/png": "[encoded data removed]",
      "text/plain": [
       "<Figure size 1440x576 with 1 Axes>"
      ]
     },
     "metadata": {
      "needs_background": "light"
     },
     "output_type": "display_data"
    }
   ],
   "source": [
    "#Plot: Sessões Apuradas por UF:\n",
    "fig, axs = plt.subplots(ncols=1, figsize=(20,8))\n",
    "\n",
    "ax1 = sns.barplot(\n",
    "    x=\"UF (Unidade Federativa)\",\n",
    "    y='(%) Sessões Apuradas',\n",
    "    data=df_uf2,\n",
    "    palette=\"ch:.25\",\n",
    "    ax=axs)\n",
    "\n",
    "ax1.set(xlabel=\"UFs\",\n",
    "        ylabel=\"(%) Seções Apuradas\",\n",
    "        title=\"Apuração de resultados Eleições 2022 - Seções Apuradas/UF\",\n",
    "        ylim=(0,110),\n",
    "        yticks=[])\n",
    "\n",
    "\n",
    "# Adicionando rotulo com valores no gráfico ax1:\n",
    "for p in ax1.patches:\n",
    "            ax1.annotate(\"%.2f\" % p.get_height(), (p.get_x() + p.get_width() / 2., p.get_height()),\n",
    "                ha='center', va='center', fontsize=11, color='black', xytext=(2, 5),\n",
    "                textcoords='offset points')\n",
    "\n",
    "plt.show()"
   ]
  }
 ],
 "metadata": {
  "kernelspec": {
   "display_name": "Python 3.8.3",
   "language": "python",
   "name": "python3"
  },
  "language_info": {
   "codemirror_mode": {
    "name": "ipython",
    "version": 3
   },
   "file_extension": ".py",
   "mimetype": "text/x-python",
   "name": "python",
   "nbconvert_exporter": "python",
   "pygments_lexer": "ipython3",
   "version": "3.8.3"
  },
  "orig_nbformat": 4,
  "vscode": {
   "interpreter": {
    "hash": "ff4f85d6e04298634172ac5d8264e7e9b556b95639fe52ebb9425c4d4cba0c9c"
   }
  }
 },
 "nbformat": 4,
 "nbformat_minor": 2
}
